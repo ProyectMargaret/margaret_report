{
 "cells": [
  {
   "cell_type": "code",
   "execution_count": 113,
   "metadata": {},
   "outputs": [],
   "source": [
    "# import libraries data anlysis\n",
    "import pandas as pd\n",
    "import numpy as np\n",
    "import matplotlib.pyplot as plt\n",
    "# run script.py file \n",
    "%run scripts.py"
   ]
  },
  {
   "cell_type": "code",
   "execution_count": 55,
   "metadata": {},
   "outputs": [],
   "source": [
    "# Read data from this url https://docs.google.com/spreadsheets/d/1O5id_ukb_gfNF8ztmeVvCXPJxFHiuYhhJojfAeB2zVw/export?format=csv&gid=577324012\n",
    "url = 'https://docs.google.com/spreadsheets/d/1sxOMUCelI89XYD41fl_dnar4x6IqpUDc5-w2EiPGI8w/export?format=csv&gid=559438072'\n",
    "df_2022 = pd.read_csv(url)"
   ]
  },
  {
   "cell_type": "code",
   "execution_count": 18,
   "metadata": {},
   "outputs": [],
   "source": [
    "PROYECTO = get_data_proyectos(df_2022)"
   ]
  },
  {
   "cell_type": "code",
   "execution_count": 32,
   "metadata": {},
   "outputs": [],
   "source": [
    "ENTIDAD_EXTERNA = get_entidad_externa(df_2022)"
   ]
  },
  {
   "cell_type": "code",
   "execution_count": 118,
   "metadata": {},
   "outputs": [],
   "source": [
    "PRODUCTOS = get_productos(df_2022)"
   ]
  },
  {
   "cell_type": "code",
   "execution_count": 116,
   "metadata": {},
   "outputs": [],
   "source": [
    "GRUPO = get_grupos(df_2022)"
   ]
  },
  {
   "cell_type": "code",
   "execution_count": 96,
   "metadata": {},
   "outputs": [],
   "source": [
    "PROGRAMA = get_programas(df_2022)"
   ]
  },
  {
   "cell_type": "code",
   "execution_count": 90,
   "metadata": {},
   "outputs": [],
   "source": [
    "ADSCRIPCION = get_adscripciones(df_2022)"
   ]
  },
  {
   "attachments": {},
   "cell_type": "markdown",
   "metadata": {},
   "source": [
    "# Exporting data"
   ]
  },
  {
   "cell_type": "code",
   "execution_count": 117,
   "metadata": {},
   "outputs": [],
   "source": [
    "# eXport data to csv files \n",
    "PROYECTO.to_csv('PROYECTO.csv', index=False)\n",
    "ENTIDAD_EXTERNA.to_csv('ENTIDAD_EXTERNA.csv', index=False)\n",
    "PRODUCTOS.to_csv('PRODUCTOS.csv', index=False)\n",
    "GRUPO.to_csv('GRUPO.csv', index=False)\n",
    "PROGRAMA.to_csv('PROGRAMA.csv', index=False)\n",
    "ADSCRIPCION.to_csv('ADSCRIPCION.csv', index=False)\n"
   ]
  }
 ],
 "metadata": {
  "kernelspec": {
   "display_name": "Python 3",
   "language": "python",
   "name": "python3"
  },
  "language_info": {
   "codemirror_mode": {
    "name": "ipython",
    "version": 3
   },
   "file_extension": ".py",
   "mimetype": "text/x-python",
   "name": "python",
   "nbconvert_exporter": "python",
   "pygments_lexer": "ipython3",
   "version": "3.10.11"
  },
  "orig_nbformat": 4
 },
 "nbformat": 4,
 "nbformat_minor": 2
}
